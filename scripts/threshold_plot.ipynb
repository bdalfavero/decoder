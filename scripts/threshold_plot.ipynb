{
 "cells": [
  {
   "cell_type": "code",
   "execution_count": 2,
   "metadata": {},
   "outputs": [],
   "source": [
    "import pandas as pd\n",
    "import matplotlib.pyplot as plt\n",
    "import seaborn as sns"
   ]
  },
  {
   "cell_type": "code",
   "execution_count": 3,
   "metadata": {},
   "outputs": [
    {
     "name": "stdout",
     "output_type": "stream",
     "text": [
      "   d   0.01  0.05333333333333334  0.09666666666666666   0.14  \\\n",
      "0  3  0.013                0.063                0.130  0.187   \n",
      "1  5  0.008                0.067                0.128  0.181   \n",
      "2  7  0.018                0.072                0.129  0.185   \n",
      "\n",
      "   0.18333333333333335  0.22666666666666668   0.27  0.31333333333333335  \\\n",
      "0                0.216                0.276  0.337                0.363   \n",
      "1                0.234                0.282  0.310                0.358   \n",
      "2                0.272                0.296  0.321                0.376   \n",
      "\n",
      "   0.3566666666666667    0.4  \n",
      "0               0.431  0.421  \n",
      "1               0.401  0.403  \n",
      "2               0.389  0.381  \n"
     ]
    }
   ],
   "source": [
    "df = pd.read_csv(\"../data/logical_error_rates.csv\")\n",
    "print(df.head())"
   ]
  },
  {
   "cell_type": "code",
   "execution_count": null,
   "metadata": {},
   "outputs": [],
   "source": []
  }
 ],
 "metadata": {
  "kernelspec": {
   "display_name": "decoding",
   "language": "python",
   "name": "python3"
  },
  "language_info": {
   "codemirror_mode": {
    "name": "ipython",
    "version": 3
   },
   "file_extension": ".py",
   "mimetype": "text/x-python",
   "name": "python",
   "nbconvert_exporter": "python",
   "pygments_lexer": "ipython3",
   "version": "3.11.7"
  }
 },
 "nbformat": 4,
 "nbformat_minor": 2
}
